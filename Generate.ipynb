{
 "cells": [
  {
   "cell_type": "code",
   "execution_count": 97,
   "metadata": {},
   "outputs": [],
   "source": [
    "import uuid\n",
    "from faker import Faker\n",
    "from datetime import datetime, timedelta\n",
    "import pyodbc\n",
    "import random\n",
    "import csv"
   ]
  },
  {
   "cell_type": "code",
   "execution_count": 38,
   "metadata": {},
   "outputs": [],
   "source": [
    "server = 'XMG' \n",
    "database = 'supermarket'"
   ]
  },
  {
   "cell_type": "code",
   "execution_count": 39,
   "metadata": {},
   "outputs": [],
   "source": [
    "conn = pyodbc.connect(f'DRIVER={{ODBC Driver 17 for SQL Server}};SERVER={server};DATABASE={database};Trusted_Connection=yes;')\n",
    "cursor = conn.cursor()\n"
   ]
  },
  {
   "cell_type": "code",
   "execution_count": 40,
   "metadata": {},
   "outputs": [],
   "source": [
    "fake = Faker()"
   ]
  },
  {
   "cell_type": "code",
   "execution_count": 41,
   "metadata": {},
   "outputs": [],
   "source": [
    "cursor.execute('''\n",
    "IF NOT EXISTS (SELECT * FROM sysobjects WHERE name='Account' and xtype='U')\n",
    "    CREATE TABLE Account (\n",
    "        AccountID UNIQUEIDENTIFIER PRIMARY KEY,\n",
    "        Email NVARCHAR(255) UNIQUE,\n",
    "        DateRegistered DATETIME\n",
    "    )\n",
    "''')\n",
    "conn.commit()"
   ]
  },
  {
   "cell_type": "code",
   "execution_count": 42,
   "metadata": {},
   "outputs": [],
   "source": [
    "def generate_mock_accounts(num_accounts):\n",
    "    accounts = []\n",
    "    generated_emails = set()\n",
    "    while len(accounts) < num_accounts:\n",
    "        account_id = str(uuid.uuid4())\n",
    "        email = Faker().email()\n",
    "        if email not in generated_emails:\n",
    "            date_registered = Faker().date_between(start_date='-5y', end_date='today').strftime('%Y-%m-%d %H:%M:%S')\n",
    "            accounts.append((account_id, email, date_registered))\n",
    "            generated_emails.add(email)\n",
    "    return accounts"
   ]
  },
  {
   "cell_type": "code",
   "execution_count": 43,
   "metadata": {},
   "outputs": [],
   "source": [
    "mock_accounts = generate_mock_accounts(100)"
   ]
  },
  {
   "cell_type": "code",
   "execution_count": 44,
   "metadata": {},
   "outputs": [],
   "source": [
    "cursor.executemany('INSERT INTO Account (AccountID, Email, DateRegistered) VALUES (?, ?, ?)', mock_accounts)\n",
    "conn.commit()"
   ]
  },
  {
   "cell_type": "code",
   "execution_count": 50,
   "metadata": {},
   "outputs": [],
   "source": [
    "cursor.execute('''\n",
    "IF NOT EXISTS (SELECT * FROM sysobjects WHERE name='Town' and xtype='U')\n",
    "    CREATE TABLE Town (\n",
    "        TownID UNIQUEIDENTIFIER PRIMARY KEY DEFAULT NEWID(),\n",
    "        Name NVARCHAR(255) NOT NULL UNIQUE\n",
    "    );\n",
    "''')\n",
    "conn.commit()"
   ]
  },
  {
   "cell_type": "code",
   "execution_count": 52,
   "metadata": {},
   "outputs": [],
   "source": [
    "cursor.execute('''\n",
    "IF NOT EXISTS (SELECT * FROM sysobjects WHERE name='Profile' and xtype='U')\n",
    "    CREATE TABLE Profile (\n",
    "        ProfileID UNIQUEIDENTIFIER PRIMARY KEY DEFAULT NEWID(),\n",
    "        DisplayName NVARCHAR(255) NOT NULL,\n",
    "        House NVARCHAR(255),\n",
    "        Locality NVARCHAR(255),\n",
    "        TownID UNIQUEIDENTIFIER NOT NULL,\n",
    "        AccountID UNIQUEIDENTIFIER NOT NULL UNIQUE,\n",
    "        FOREIGN KEY (AccountID) REFERENCES Account(AccountID),\n",
    "        FOREIGN KEY (TownID) REFERENCES Town(TownID)\n",
    "    );  \n",
    "''')\n",
    "conn.commit()"
   ]
  },
  {
   "cell_type": "code",
   "execution_count": 47,
   "metadata": {},
   "outputs": [],
   "source": [
    "cursor.execute(\"SELECT TOP 60 AccountID FROM Account ORDER BY NEWID()\")\n",
    "accounts = cursor.fetchall()\n",
    "account_ids = [account[0] for account in accounts]"
   ]
  },
  {
   "cell_type": "code",
   "execution_count": 49,
   "metadata": {},
   "outputs": [],
   "source": [
    "fake = Faker('en_GB')"
   ]
  },
  {
   "cell_type": "code",
   "execution_count": 53,
   "metadata": {},
   "outputs": [],
   "source": [
    "towns = {fake.city() for _ in range(20)}  # Generate a set of unique towns\n",
    "for town in towns:\n",
    "    cursor.execute(\"IF NOT EXISTS (SELECT * FROM Town WHERE Name = ?) INSERT INTO Town (Name) VALUES (?)\", town, town)\n",
    "conn.commit()"
   ]
  },
  {
   "cell_type": "code",
   "execution_count": 55,
   "metadata": {},
   "outputs": [],
   "source": [
    "def generate_profiles(account_ids):\n",
    "    profiles = []\n",
    "    for account_id in account_ids:\n",
    "        display_name = fake.name()\n",
    "        house = fake.building_number()\n",
    "        locality = fake.street_name()\n",
    "        town = random.choice(list(towns)) \n",
    "\n",
    "        cursor.execute(\"SELECT TownID FROM Town WHERE Name = ?\", town)\n",
    "        town_id = cursor.fetchone()[0]\n",
    "\n",
    "        profiles.append((display_name, house, locality, town_id, account_id))\n",
    "\n",
    "    return profiles"
   ]
  },
  {
   "cell_type": "code",
   "execution_count": 58,
   "metadata": {},
   "outputs": [],
   "source": [
    "profiles = generate_profiles(account_ids)\n",
    "cursor.executemany(\"INSERT INTO Profile (DisplayName, House, Locality, TownID, AccountID) VALUES (?, ?, ?, ?, ?)\", profiles)\n",
    "conn.commit()\n"
   ]
  },
  {
   "cell_type": "code",
   "execution_count": 66,
   "metadata": {},
   "outputs": [],
   "source": [
    "cursor.execute('''\n",
    "IF NOT EXISTS (SELECT * FROM sysobjects WHERE name='ProductCompany' and xtype='U')\n",
    "    CREATE TABLE ProductCompany (\n",
    "        CompanyID UNIQUEIDENTIFIER PRIMARY KEY DEFAULT NEWID(),\n",
    "        CompanyName NVARCHAR(255) NOT NULL UNIQUE\n",
    "    );\n",
    "''')\n",
    "conn.commit()"
   ]
  },
  {
   "cell_type": "code",
   "execution_count": 67,
   "metadata": {},
   "outputs": [],
   "source": [
    "cursor.execute('''\n",
    "IF NOT EXISTS (SELECT * FROM sysobjects WHERE name='Category' and xtype='U')\n",
    "    CREATE TABLE Category (\n",
    "        CategoryID UNIQUEIDENTIFIER PRIMARY KEY DEFAULT NEWID(),\n",
    "        CategoryName NVARCHAR(255) NOT NULL UNIQUE\n",
    "    );\n",
    "''')\n",
    "conn.commit()"
   ]
  },
  {
   "cell_type": "code",
   "execution_count": 91,
   "metadata": {},
   "outputs": [],
   "source": [
    "cursor.execute('''\n",
    "IF NOT EXISTS (SELECT * FROM sysobjects WHERE name='Products' and xtype='U')\n",
    "    CREATE TABLE Products (\n",
    "        ProductID UNIQUEIDENTIFIER PRIMARY KEY,\n",
    "        Barcode NVARCHAR(255) UNIQUE,\n",
    "        ProductName NVARCHAR(255) NOT NULL,\n",
    "        CompanyID UNIQUEIDENTIFIER NOT NULL,\n",
    "        CategoryID UNIQUEIDENTIFIER NOT NULL,\n",
    "        ProductSize INT NOT NULL,\n",
    "        ProductPrice FLOAT NOT NULL,\n",
    "        FOREIGN KEY (CompanyID) REFERENCES ProductCompany(CompanyID),\n",
    "        FOREIGN KEY (CategoryID) REFERENCES Category(CategoryID),\n",
    "    );\n",
    "''')\n",
    "conn.commit()"
   ]
  },
  {
   "cell_type": "code",
   "execution_count": 92,
   "metadata": {},
   "outputs": [],
   "source": [
    "cursor.execute('''\n",
    "IF NOT EXISTS (SELECT * FROM sysobjects WHERE name='ProductRating' and xtype='U')\n",
    "    CREATE TABLE ProductRating (\n",
    "        RatingID UNIQUEIDENTIFIER PRIMARY KEY DEFAULT NEWID(),\n",
    "        ProductID UNIQUEIDENTIFIER NOT NULL,\n",
    "        ProductRate FLOAT,\n",
    "        OneStar INT,\n",
    "        TwoStar INT,\n",
    "        ThreeStar INT,\n",
    "        FourStar INT,\n",
    "        FiveStar INT,\n",
    "        ReviewsNumber INT,\n",
    "        ProductQuality NVARCHAR(50),\n",
    "        FOREIGN KEY (ProductID) REFERENCES Products(ProductID)\n",
    "    );\n",
    "''')\n",
    "conn.commit()"
   ]
  },
  {
   "cell_type": "code",
   "execution_count": 93,
   "metadata": {},
   "outputs": [],
   "source": [
    "def get_or_create_id(table, id, column, value):\n",
    "    cursor.execute(f\"SELECT {id} FROM {table} WHERE {column} = ?\", value)\n",
    "    result = cursor.fetchone()\n",
    "    if result:\n",
    "        return result[0]\n",
    "    else:\n",
    "        cursor.execute(f\"INSERT INTO {table} ({column}) VALUES (?)\", value)\n",
    "        conn.commit()\n",
    "        return cursor.execute(f\"SELECT {id} FROM {table} WHERE {column} = ?\", value).fetchone()[0]"
   ]
  },
  {
   "cell_type": "code",
   "execution_count": 94,
   "metadata": {},
   "outputs": [],
   "source": [
    "with open('products.csv', newline='', encoding='utf-8') as csvfile:\n",
    "    reader = csv.DictReader(csvfile)\n",
    "    for row in reader:\n",
    "        if (row['product_price']=='not availabe'):\n",
    "            continue\n",
    "        # Normalize data\n",
    "        company_id = get_or_create_id('ProductCompany', 'CompanyID', 'CompanyName', row['product_company'].strip())\n",
    "        category_id = get_or_create_id('Category', 'CategoryID', 'CategoryName', row['category'].strip())\n",
    "\n",
    "        product_id = str(uuid.uuid4())\n",
    "        \n",
    "        cursor.execute(\n",
    "            \"INSERT INTO Products (ProductID, Barcode, ProductName, CompanyID, CategoryID, ProductSize, ProductPrice) VALUES (?, ?, ?, ?, ?, ?, ?)\",\n",
    "                product_id, fake.ean13(), row['product_name'].strip(), company_id, category_id, int(row['product_size'].split()[0].replace('g','')), row['product_price']\n",
    "            )\n",
    "        conn.commit()\n",
    "\n",
    "        cursor.execute(\n",
    "            \"INSERT INTO ProductRating (ProductID, ProductRate, OneStar, TwoStar, ThreeStar, FourStar, FiveStar, ReviewsNumber, ProductQuality) VALUES (?, ?, ?, ?, ?, ?, ?, ?, ?)\",\n",
    "            product_id, row['product_rate'], row['one_star'], row['two_star'], row['three_star'], row['four_star'], row['five_star'], row['reviews_number'], row['product_quality']\n",
    "        )\n",
    "        conn.commit()\n",
    "\n",
    "\n"
   ]
  },
  {
   "cell_type": "code",
   "execution_count": 95,
   "metadata": {},
   "outputs": [],
   "source": [
    "cursor.execute('''\n",
    "IF NOT EXISTS (SELECT * FROM sysobjects WHERE name='Orders' and xtype='U')\n",
    "    CREATE TABLE Orders (\n",
    "        OrderID UNIQUEIDENTIFIER PRIMARY KEY DEFAULT NEWID(),\n",
    "        AccountID UNIQUEIDENTIFIER NOT NULL,\n",
    "        OrderDate DATETIME NOT NULL,\n",
    "        FOREIGN KEY (AccountID) REFERENCES Account(AccountID)\n",
    "    );\n",
    "''')\n",
    "conn.commit()"
   ]
  },
  {
   "cell_type": "code",
   "execution_count": 98,
   "metadata": {},
   "outputs": [],
   "source": [
    "cursor.execute(\"SELECT TOP 90 AccountID, DateRegistered FROM Account ORDER BY NEWID()\")\n",
    "accounts = cursor.fetchall()\n",
    "\n",
    "# Function to generate orders\n",
    "def generate_orders(account_id, date_registered):\n",
    "    num_orders = random.randint(1, 30)  # Random number of orders (1 to 30)\n",
    "    orders = []\n",
    "    for _ in range(num_orders):\n",
    "        # Order date must be after date registered and not more than 5 years ago\n",
    "        start_date = max(date_registered, datetime.now() - timedelta(days=5*365))\n",
    "        order_date = fake.date_time_between_dates(datetime_start=start_date, datetime_end=datetime.now())\n",
    "        orders.append((account_id, order_date))\n",
    "    return orders\n",
    "\n",
    "# Generate and insert orders for each account\n",
    "for account_id, date_registered in accounts:\n",
    "    orders = generate_orders(account_id, date_registered)\n",
    "    cursor.executemany(\"INSERT INTO Orders (AccountID, OrderDate) VALUES (?, ?)\", orders)\n",
    "    conn.commit()"
   ]
  },
  {
   "cell_type": "code",
   "execution_count": 102,
   "metadata": {},
   "outputs": [],
   "source": [
    "cursor.execute('''\n",
    "IF NOT EXISTS (SELECT * FROM sysobjects WHERE name='OrderItem' and xtype='U')\n",
    "    CREATE TABLE OrderItem (\n",
    "        OrderID UNIQUEIDENTIFIER NOT NULL,\n",
    "        ProductID UNIQUEIDENTIFIER NOT NULL,\n",
    "        Quantity INT NOT NULL,\n",
    "        FOREIGN KEY (OrderID) REFERENCES Orders(OrderID),\n",
    "        FOREIGN KEY (ProductID) REFERENCES Products(ProductID),\n",
    "        PRIMARY KEY(OrderId, ProductId)\n",
    "    );\n",
    "''')\n",
    "conn.commit()"
   ]
  },
  {
   "cell_type": "code",
   "execution_count": 103,
   "metadata": {},
   "outputs": [],
   "source": [
    "# Fetch all OrderIDs\n",
    "cursor.execute(\"SELECT OrderID FROM Orders\")\n",
    "orders = [row[0] for row in cursor.fetchall()]\n",
    "\n",
    "# Fetch all ProductIDs\n",
    "cursor.execute(\"SELECT ProductID FROM Products\")\n",
    "products = [row[0] for row in cursor.fetchall()]\n",
    "\n",
    "# Function to generate order items for an order\n",
    "def generate_order_items(order_id, products):\n",
    "    num_products = random.randint(1, 30)  # Random number of unique products\n",
    "    selected_products = random.sample(products, num_products)\n",
    "    order_items = [(order_id, product_id, random.randint(1, 5)) for product_id in selected_products]  # Random quantity for each product\n",
    "    return order_items\n",
    "\n",
    "# Generate and insert order items for each order\n",
    "for order_id in orders:\n",
    "    order_items = generate_order_items(order_id, products)\n",
    "    cursor.executemany(\"INSERT INTO OrderItem (OrderID, ProductID, Quantity) VALUES (?, ?, ?)\", order_items)\n",
    "    conn.commit()\n"
   ]
  }
 ],
 "metadata": {
  "kernelspec": {
   "display_name": "my-env",
   "language": "python",
   "name": "python3"
  },
  "language_info": {
   "codemirror_mode": {
    "name": "ipython",
    "version": 3
   },
   "file_extension": ".py",
   "mimetype": "text/x-python",
   "name": "python",
   "nbconvert_exporter": "python",
   "pygments_lexer": "ipython3",
   "version": "3.12.1"
  }
 },
 "nbformat": 4,
 "nbformat_minor": 2
}
